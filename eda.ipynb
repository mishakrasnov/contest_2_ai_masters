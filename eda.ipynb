{
 "cells": [
  {
   "cell_type": "code",
   "execution_count": 740,
   "id": "38f71ac3",
   "metadata": {},
   "outputs": [],
   "source": [
    "import pandas as pd\n",
    "from matplotlib import pyplot as plt\n",
    "import numpy as np\n",
    "import seaborn as sns\n",
    "import scipy.stats as stats"
   ]
  },
  {
   "cell_type": "code",
   "execution_count": 604,
   "id": "49b8b4b2",
   "metadata": {},
   "outputs": [],
   "source": [
    "webstat = pd.read_csv('t1_webstat.csv')\n",
    "train = pd.read_csv('train.csv'\"\")\n",
    "test = pd.read_csv('test.csv')"
   ]
  },
  {
   "cell_type": "code",
   "execution_count": 605,
   "id": "7c0298e8",
   "metadata": {},
   "outputs": [],
   "source": [
    "webstat['date_time'] = pd.to_datetime(webstat['date_time'])\n",
    "train['create_time'] = pd.to_datetime(train['create_time'])\n",
    "test['create_time'] = pd.to_datetime(test['create_time'])"
   ]
  },
  {
   "cell_type": "code",
   "execution_count": 606,
   "id": "cb464768",
   "metadata": {},
   "outputs": [],
   "source": [
    "webstat = webstat.set_index('sessionkey_id')"
   ]
  },
  {
   "cell_type": "code",
   "execution_count": 607,
   "id": "56d28837",
   "metadata": {},
   "outputs": [],
   "source": [
    "webstat.convert_dtypes()\n",
    "webstat['product_in_sale'] = webstat['product_in_sale'].astype(bool)\n",
    "webstat['product_in_sale'] = webstat['product_in_sale'].astype(bool)\n",
    "webstat['pageview_duration_sec'] = webstat['pageview_duration_sec'].astype(np.float32)\n",
    "webstat['page_type'] = webstat['page_type'].astype(np.uint16)\n",
    "webstat['pageview_number'] = webstat['pageview_number'].astype(np.uint16)\n",
    "webstat['category_id'] = webstat['category_id'].astype(\"Int64\")\n",
    "webstat['good_id'] = webstat['good_id'].astype(\"Int64\")\n",
    "webstat['model_id'] = webstat['model_id'].astype(\"Int64\")"
   ]
  },
  {
   "cell_type": "code",
   "execution_count": 608,
   "id": "f362309a",
   "metadata": {},
   "outputs": [],
   "source": [
    "webstat = webstat.loc[webstat['pageview_duration_sec'] > 0]"
   ]
  },
  {
   "cell_type": "code",
   "execution_count": 758,
   "id": "65c2f582",
   "metadata": {},
   "outputs": [],
   "source": [
    "price_nan = webstat['price'].isna()\n",
    "nan_i = webstat.loc[price_nan].index.to_numpy()\n",
    "train_ind = set(train.index)\n",
    "for index in nan_i:\n",
    "    if index in train_ind:\n",
    "        webstat.loc[index]['price'] = train.loc[train['sessionkey_id'] == index]['price'].mean() "
   ]
  },
  {
   "cell_type": "code",
   "execution_count": 759,
   "id": "77adb9ba",
   "metadata": {},
   "outputs": [
    {
     "name": "stdout",
     "output_type": "stream",
     "text": [
      "date_time 0.0\n",
      "page_type 0.0\n",
      "pageview_number 0.0\n",
      "pageview_duration_sec 0.0\n",
      "category_id 0.2984763884439164\n",
      "model_id 0.6295172529867087\n",
      "good_id 0.6464129180472777\n",
      "price 0.6464129180472777\n",
      "product_in_sale 0.0\n"
     ]
    }
   ],
   "source": [
    "for col in webstat.columns:\n",
    "    print(col, \n",
    "          len(webstat.loc[webstat[col].isna()]) / len(webstat)\n",
    "         )"
   ]
  },
  {
   "cell_type": "code",
   "execution_count": 747,
   "id": "9e5bfcc4",
   "metadata": {},
   "outputs": [
    {
     "name": "stdout",
     "output_type": "stream",
     "text": [
      "order_id 0.0\n",
      "create_time 0.0\n",
      "good_id 0.0\n",
      "price 0.0\n",
      "utm_medium 0.0\n",
      "utm_source 0.10039321831608786\n",
      "sessionkey_id 0.0\n",
      "category_id 0.0\n",
      "parent_id 0.0\n",
      "root_id 0.0\n",
      "model_id 0.0\n",
      "is_moderated 0.0\n",
      "rating_value 0.6781044532773521\n",
      "rating_count 0.5079442887437261\n",
      "description_length 0.0\n",
      "goods_qty 0.0\n",
      "pics_qty 0.0\n",
      "model_create_time 0.010294007949616905\n",
      "is_callcenter 0.0\n"
     ]
    }
   ],
   "source": [
    "for col in train.columns:\n",
    "    print(col, \n",
    "          len(train.loc[train[col].isna()]) / len(train)\n",
    "         )"
   ]
  },
  {
   "cell_type": "code",
   "execution_count": 609,
   "id": "e0ede18a",
   "metadata": {},
   "outputs": [],
   "source": [
    "train.convert_dtypes()\n",
    "train['is_callcenter'] = train['is_callcenter'].astype(bool) "
   ]
  },
  {
   "cell_type": "code",
   "execution_count": 611,
   "id": "19ff2033",
   "metadata": {},
   "outputs": [],
   "source": [
    "def is_session_exists(row):\n",
    "    sess_id = row['sessionkey_id']\n",
    "    if sess_id in webstat_index:\n",
    "        return True\n",
    "    else:\n",
    "        return False"
   ]
  },
  {
   "cell_type": "code",
   "execution_count": 544,
   "id": "9bd7d31d",
   "metadata": {},
   "outputs": [
    {
     "data": {
      "text/plain": [
       "17041"
      ]
     },
     "execution_count": 544,
     "metadata": {},
     "output_type": "execute_result"
    }
   ],
   "source": [
    "len(test.loc[test.apply(is_session_exists, axis = 1)])"
   ]
  },
  {
   "cell_type": "code",
   "execution_count": 612,
   "id": "6be5f48f",
   "metadata": {},
   "outputs": [],
   "source": [
    "train = train.loc[train.apply(is_session_exists, axis = 1)]"
   ]
  },
  {
   "cell_type": "code",
   "execution_count": 748,
   "id": "9c41992f",
   "metadata": {},
   "outputs": [],
   "source": [
    "train_and_webstats = webstat.join(train.set_index('sessionkey_id'), how = 'inner', on = 'sessionkey_id', rsuffix = '_')"
   ]
  },
  {
   "cell_type": "code",
   "execution_count": 217,
   "id": "b8958e00",
   "metadata": {},
   "outputs": [
    {
     "data": {
      "text/html": [
       "<div>\n",
       "<style scoped>\n",
       "    .dataframe tbody tr th:only-of-type {\n",
       "        vertical-align: middle;\n",
       "    }\n",
       "\n",
       "    .dataframe tbody tr th {\n",
       "        vertical-align: top;\n",
       "    }\n",
       "\n",
       "    .dataframe thead th {\n",
       "        text-align: right;\n",
       "    }\n",
       "</style>\n",
       "<table border=\"1\" class=\"dataframe\">\n",
       "  <thead>\n",
       "    <tr style=\"text-align: right;\">\n",
       "      <th></th>\n",
       "      <th>date_time</th>\n",
       "      <th>create_time</th>\n",
       "      <th>is_callcenter</th>\n",
       "    </tr>\n",
       "  </thead>\n",
       "  <tbody>\n",
       "    <tr>\n",
       "      <th>456760</th>\n",
       "      <td>1975-12-18 14:20:15.210</td>\n",
       "      <td>1975-12-18 15:11:03</td>\n",
       "      <td>1</td>\n",
       "    </tr>\n",
       "    <tr>\n",
       "      <th>456760</th>\n",
       "      <td>1975-12-18 14:20:15.210</td>\n",
       "      <td>1975-12-18 15:11:01</td>\n",
       "      <td>1</td>\n",
       "    </tr>\n",
       "    <tr>\n",
       "      <th>542281</th>\n",
       "      <td>1975-12-18 14:21:05.557</td>\n",
       "      <td>1975-12-18 15:11:03</td>\n",
       "      <td>1</td>\n",
       "    </tr>\n",
       "    <tr>\n",
       "      <th>542281</th>\n",
       "      <td>1975-12-18 14:21:05.557</td>\n",
       "      <td>1975-12-18 15:11:01</td>\n",
       "      <td>1</td>\n",
       "    </tr>\n",
       "    <tr>\n",
       "      <th>536812</th>\n",
       "      <td>1975-12-18 14:23:11.040</td>\n",
       "      <td>1975-12-18 15:11:01</td>\n",
       "      <td>1</td>\n",
       "    </tr>\n",
       "    <tr>\n",
       "      <th>...</th>\n",
       "      <td>...</td>\n",
       "      <td>...</td>\n",
       "      <td>...</td>\n",
       "    </tr>\n",
       "    <tr>\n",
       "      <th>542292</th>\n",
       "      <td>1975-12-18 15:07:12.960</td>\n",
       "      <td>1975-12-18 15:11:01</td>\n",
       "      <td>1</td>\n",
       "    </tr>\n",
       "    <tr>\n",
       "      <th>2</th>\n",
       "      <td>1975-12-18 15:08:11.147</td>\n",
       "      <td>1975-12-18 15:11:03</td>\n",
       "      <td>1</td>\n",
       "    </tr>\n",
       "    <tr>\n",
       "      <th>2</th>\n",
       "      <td>1975-12-18 15:08:11.147</td>\n",
       "      <td>1975-12-18 15:11:01</td>\n",
       "      <td>1</td>\n",
       "    </tr>\n",
       "    <tr>\n",
       "      <th>542293</th>\n",
       "      <td>1975-12-18 15:10:47.973</td>\n",
       "      <td>1975-12-18 15:11:03</td>\n",
       "      <td>1</td>\n",
       "    </tr>\n",
       "    <tr>\n",
       "      <th>542293</th>\n",
       "      <td>1975-12-18 15:10:47.973</td>\n",
       "      <td>1975-12-18 15:11:01</td>\n",
       "      <td>1</td>\n",
       "    </tr>\n",
       "  </tbody>\n",
       "</table>\n",
       "<p>82 rows × 3 columns</p>\n",
       "</div>"
      ],
      "text/plain": [
       "                      date_time          create_time  is_callcenter\n",
       "456760  1975-12-18 14:20:15.210  1975-12-18 15:11:03              1\n",
       "456760  1975-12-18 14:20:15.210  1975-12-18 15:11:01              1\n",
       "542281  1975-12-18 14:21:05.557  1975-12-18 15:11:03              1\n",
       "542281  1975-12-18 14:21:05.557  1975-12-18 15:11:01              1\n",
       "536812  1975-12-18 14:23:11.040  1975-12-18 15:11:01              1\n",
       "...                         ...                  ...            ...\n",
       "542292  1975-12-18 15:07:12.960  1975-12-18 15:11:01              1\n",
       "2       1975-12-18 15:08:11.147  1975-12-18 15:11:03              1\n",
       "2       1975-12-18 15:08:11.147  1975-12-18 15:11:01              1\n",
       "542293  1975-12-18 15:10:47.973  1975-12-18 15:11:03              1\n",
       "542293  1975-12-18 15:10:47.973  1975-12-18 15:11:01              1\n",
       "\n",
       "[82 rows x 3 columns]"
      ]
     },
     "execution_count": 217,
     "metadata": {},
     "output_type": "execute_result"
    }
   ],
   "source": [
    "Example = train_and_webstats.loc[(train_and_webstats['sessionkey_id'] == 122243978) \n",
    "                                ]\n",
    "\n",
    "Example = Example.iloc[np.argsort(Example['pageview_number'])]\n",
    "\n",
    "Example[['date_time', 'create_time', 'is_callcenter', '']]"
   ]
  },
  {
   "cell_type": "code",
   "execution_count": 383,
   "id": "4f6b5197",
   "metadata": {},
   "outputs": [],
   "source": [
    "def get_max_time(row):\n",
    "    sess_id = row['sessionkey_id']\n",
    "    session = webstat.loc[sess_id]\n",
    "    pages = session['pageview_number']\n",
    "    if len(session.shape) == 1:\n",
    "        return session\n",
    "    else:\n",
    "        sorted_ = np.argmax(pages)\n",
    "        return session.iloc[sorted_]\n",
    "def is_in_session_time(row):\n",
    "    sess_id = row['sessionkey_id']\n",
    "    session = webstat.loc[sess_id]\n",
    "    pages = session['pageview_number']\n",
    "    if len(session.shape) == 1:\n",
    "        return row['create_time'] >= session['date_time']\n",
    "    else:\n",
    "        sorted_ = np.argmax(pages)\n",
    "        return session.iloc[np.argmin(pages)]['date_time'] <= row['create_time']\n",
    "def get_time_page_k(page_num, sess_id):\n",
    "        session = webstat.loc[sess_id]\n",
    "        if len(session.shape) == 1:\n",
    "            return 0\n",
    "        else:\n",
    "            return np.sum(session.loc[session['page_type'] == page_num])"
   ]
  },
  {
   "cell_type": "code",
   "execution_count": 567,
   "id": "6acdfd32",
   "metadata": {},
   "outputs": [
    {
     "data": {
      "text/plain": [
       "48283"
      ]
     },
     "execution_count": 567,
     "metadata": {},
     "output_type": "execute_result"
    }
   ],
   "source": [
    "page_8 = webstat[webstat['page_type'] == 8]\n",
    "page_8 = page_8.groupby('sessionkey_id')['pageview_duration_sec'].count()\n",
    "index_page_8 = set(page_8.index)\n",
    "len(page_8)"
   ]
  },
  {
   "cell_type": "code",
   "execution_count": 620,
   "id": "0bcf8dc9",
   "metadata": {},
   "outputs": [],
   "source": [
    "session_keys_is_call = np.unique(train['sessionkey_id'].loc[train['is_callcenter']])\n",
    "session_keys_not_call = np.unique(train['sessionkey_id'].loc[~train['is_callcenter']])"
   ]
  },
  {
   "cell_type": "code",
   "execution_count": 447,
   "id": "96724230",
   "metadata": {},
   "outputs": [
    {
     "data": {
      "text/plain": [
       "array([ 1,  2,  3,  4,  5,  6,  7,  8,  9, 10, 11, 12, 13], dtype=uint16)"
      ]
     },
     "execution_count": 447,
     "metadata": {},
     "output_type": "execute_result"
    }
   ],
   "source": [
    "np.unique(webstat['page_type'])"
   ]
  },
  {
   "cell_type": "code",
   "execution_count": 571,
   "id": "b0e9f469",
   "metadata": {},
   "outputs": [
    {
     "data": {
      "image/png": "[encoded data removed]",
      "text/plain": [
       "<Figure size 432x288 with 1 Axes>"
      ]
     },
     "metadata": {
      "needs_background": "light"
     },
     "output_type": "display_data"
    }
   ],
   "source": [
    "page_8_is_call = page_8.loc[(key for key in session_keys_is_call if key in index_page_8)].to_numpy()\n",
    "\n",
    "page_8_is_call_zero = np.array([0 for key in session_keys_is_call if not key in index_page_8])\n",
    "\n",
    "t = np.zeros(len(page_8_is_call) + len(page_8_is_call_zero))\n",
    "\n",
    "t[:len(page_8_is_call)] = page_8_is_call\n",
    "\n",
    "t[len(page_8_is_call):] = -10\n",
    "\n",
    "page_8_is_call = t\n",
    "\n",
    "page_8_is_call = page_8_is_call[(page_8_is_call < 20) & (page_8_is_call > 0)]\n",
    "\n",
    "_,_,fig = plt.hist(page_8_is_call, bins = 50)"
   ]
  },
  {
   "cell_type": "code",
   "execution_count": 572,
   "id": "02968430",
   "metadata": {},
   "outputs": [
    {
     "data": {
      "image/png": "[encoded data removed]",
      "text/plain": [
       "<Figure size 432x288 with 1 Axes>"
      ]
     },
     "metadata": {
      "needs_background": "light"
     },
     "output_type": "display_data"
    }
   ],
   "source": [
    "page_8_not_call = page_8.loc[(key for key in session_keys_not_call if key in index_page_8)]\n",
    "\n",
    "page_8_not_call_zero = np.array([0 for key in session_keys_not_call if not key in index_page_8])\n",
    "\n",
    "t = np.zeros(len(page_8_not_call) + len(page_8_not_call_zero))\n",
    "\n",
    "t[:len(page_8_not_call)] = page_8_not_call\n",
    "\n",
    "t[len(page_8_not_call):] = -10\n",
    "\n",
    "page_8_not_call = t\n",
    "\n",
    "page_8_not_call = page_8_not_call[(page_8_not_call < 20) & (page_8_not_call > 0) ]\n",
    "_,_,fig = plt.hist(page_8_not_call, bins = 50)"
   ]
  },
  {
   "cell_type": "code",
   "execution_count": 573,
   "id": "c681c66d",
   "metadata": {},
   "outputs": [
    {
     "data": {
      "image/png": "[encoded data removed]",
      "text/plain": [
       "<Figure size 432x288 with 1 Axes>"
      ]
     },
     "metadata": {
      "needs_background": "light"
     },
     "output_type": "display_data"
    }
   ],
   "source": [
    "_,_,fig = plt.hist(page_8_not_call, bins = 50, density = 0, alpha = 0.7)\n",
    "_,_,fig = plt.hist(page_8_is_call, bins = 50,  density = 0, alpha = 0.7)"
   ]
  },
  {
   "cell_type": "code",
   "execution_count": 682,
   "id": "4b605775",
   "metadata": {},
   "outputs": [],
   "source": [
    "sum_time = webstat.groupby('sessionkey_id')['pageview_duration_sec'].sum()\n",
    "sum_time_index = set(sum_time.index)"
   ]
  },
  {
   "cell_type": "code",
   "execution_count": 766,
   "id": "9cf1ffde",
   "metadata": {},
   "outputs": [
    {
     "data": {
      "image/png": "[encoded data removed]",
      "text/plain": [
       "<Figure size 432x288 with 1 Axes>"
      ]
     },
     "metadata": {
      "needs_background": "light"
     },
     "output_type": "display_data"
    }
   ],
   "source": [
    "sum_time_8_is_call = sum_time.loc[session_keys_is_call]\n",
    "\n",
    "sum_time_8_is_call = sum_time_8_is_call[(sum_time_8_is_call < 10000) & (sum_time_8_is_call > 0)]\n",
    "\n",
    "_,_,fig = plt.hist(sum_time_8_is_call, bins = 50)"
   ]
  },
  {
   "cell_type": "code",
   "execution_count": 767,
   "id": "26cf0054",
   "metadata": {},
   "outputs": [
    {
     "data": {
      "image/png": "[encoded data removed]",
      "text/plain": [
       "<Figure size 432x288 with 1 Axes>"
      ]
     },
     "metadata": {
      "needs_background": "light"
     },
     "output_type": "display_data"
    }
   ],
   "source": [
    "sum_time_8_not_call = sum_time.loc[session_keys_not_call]\n",
    "\n",
    "sum_time_8_not_call = sum_time_8_not_call[sum_time_8_not_call  < 10000]\n",
    "\n",
    "\n",
    "_,_,fig = plt.hist(sum_time_8_not_call, bins = 50)"
   ]
  },
  {
   "cell_type": "code",
   "execution_count": 768,
   "id": "d2ec9ecf",
   "metadata": {},
   "outputs": [
    {
     "data": {
      "text/plain": [
       "<AxesSubplot:>"
      ]
     },
     "execution_count": 768,
     "metadata": {},
     "output_type": "execute_result"
    },
    {
     "data": {
      "image/png": "[encoded data removed]",
      "text/plain": [
       "<Figure size 432x288 with 1 Axes>"
      ]
     },
     "metadata": {
      "needs_background": "light"
     },
     "output_type": "display_data"
    },
    {
     "data": {
      "image/png": "[encoded data removed]",
      "text/plain": [
       "<Figure size 300x300 with 2 Axes>"
      ]
     },
     "metadata": {
      "needs_background": "light"
     },
     "output_type": "display_data"
    }
   ],
   "source": [
    "_,_,fig = plt.hist(sum_time_8_not_call, bins = 50, density = 0, alpha = 0.7)\n",
    "_,_,fig = plt.hist(sum_time_8_is_call, bins = 50,  density = 0, alpha = 0.7)\n",
    "\n",
    "f, axes = plt.subplots(1, 2,sharey=True, dpi = 100, figsize = (3,3))\n",
    "sns.boxplot(data = sum_time_8_not_call.values, ax=axes[0])\n",
    "sns.boxplot(data = sum_time_8_is_call.values, ax=axes[1])"
   ]
  },
  {
   "cell_type": "code",
   "execution_count": 769,
   "id": "042200de",
   "metadata": {},
   "outputs": [],
   "source": [
    "avg_time = webstat.groupby('sessionkey_id')['price'].mean()"
   ]
  },
  {
   "cell_type": "code",
   "execution_count": 765,
   "id": "a238e5d1",
   "metadata": {},
   "outputs": [
    {
     "data": {
      "image/png": "[encoded data removed]",
      "text/plain": [
       "<Figure size 432x288 with 1 Axes>"
      ]
     },
     "metadata": {
      "needs_background": "light"
     },
     "output_type": "display_data"
    }
   ],
   "source": [
    "avg_time_8_is_call = avg_time.loc[session_keys_is_call]\n",
    "\n",
    "avg_time_8_is_call = avg_time_8_is_call[(avg_time_8_is_call < 10000) & (avg_time_8_is_call > 0)]\n",
    "\n",
    "_,_,fig = plt.hist(avg_time_8_is_call, bins = 50)"
   ]
  },
  {
   "cell_type": "code",
   "execution_count": 738,
   "id": "cd14d35e",
   "metadata": {},
   "outputs": [
    {
     "data": {
      "image/png": "[encoded data removed]",
      "text/plain": [
       "<Figure size 432x288 with 1 Axes>"
      ]
     },
     "metadata": {
      "needs_background": "light"
     },
     "output_type": "display_data"
    }
   ],
   "source": [
    "avg_time_8_not_call = avg_time.loc[session_keys_not_call]\n",
    "\n",
    "avg_time_8_not_call = avg_time_8_not_call[(avg_time_8_not_call < 10000)]\n",
    "\n",
    "_,_,fig = plt.hist(avg_time_8_not_call, bins = 50)"
   ]
  },
  {
   "cell_type": "code",
   "execution_count": 741,
   "id": "6e78392d",
   "metadata": {},
   "outputs": [
    {
     "data": {
      "text/plain": [
       "Ttest_indResult(statistic=-24.140823431529984, pvalue=6.32640243259517e-128)"
      ]
     },
     "execution_count": 741,
     "metadata": {},
     "output_type": "execute_result"
    },
    {
     "data": {
      "image/png": "[encoded data removed]",
      "text/plain": [
       "<Figure size 432x288 with 1 Axes>"
      ]
     },
     "metadata": {
      "needs_background": "light"
     },
     "output_type": "display_data"
    },
    {
     "data": {
      "image/png": "[encoded data removed]",
      "text/plain": [
       "<Figure size 300x300 with 2 Axes>"
      ]
     },
     "metadata": {
      "needs_background": "light"
     },
     "output_type": "display_data"
    }
   ],
   "source": [
    "_,_,fig = plt.hist(avg_time_8_not_call, bins = 50, density = 0, alpha = 0.7)\n",
    "_,_,fig = plt.hist(avg_time_8_is_call, bins = 50,  density = 0, alpha = 0.7)\n",
    "\n",
    "f, axes = plt.subplots(1, 2,sharey=True, dpi = 100, figsize = (3,3))\n",
    "sns.boxplot(data = avg_time_8_not_call.values, ax=axes[0])\n",
    "sns.boxplot(data = avg_time_8_is_call.values, ax=axes[1])\n",
    "stats.ttest_ind(avg_time_8_not_call.values,\n",
    "                avg_time_8_is_call.values, equal_var=False )"
   ]
  },
  {
   "cell_type": "code",
   "execution_count": 1028,
   "id": "5e6e3a1e",
   "metadata": {},
   "outputs": [],
   "source": [
    "avg_create_time = train.groupby('sessionkey_id')['create_time'].mean()\n",
    "avg_bool = train.groupby('sessionkey_id')['is_callcenter'].mean().astype(bool)"
   ]
  },
  {
   "cell_type": "code",
   "execution_count": 1029,
   "id": "f79a0194",
   "metadata": {},
   "outputs": [
    {
     "data": {
      "image/png": "[encoded data removed]",
      "text/plain": [
       "<Figure size 576x360 with 1 Axes>"
      ]
     },
     "metadata": {
      "needs_background": "light"
     },
     "output_type": "display_data"
    }
   ],
   "source": [
    "avg_c_time_is_call = avg_create_time.loc[avg_bool]\n",
    "plt.figure(figsize = (8,5))\n",
    "_,_,fig = plt.hist(avg_c_time_is_call, bins = 100)"
   ]
  },
  {
   "cell_type": "code",
   "execution_count": 1030,
   "id": "ef04790f",
   "metadata": {},
   "outputs": [
    {
     "data": {
      "image/png": "[encoded data removed]",
      "text/plain": [
       "<Figure size 576x360 with 1 Axes>"
      ]
     },
     "metadata": {
      "needs_background": "light"
     },
     "output_type": "display_data"
    }
   ],
   "source": [
    "avg_c_time_not_call = avg_create_time.loc[~avg_bool]\n",
    "plt.figure(figsize = (8,5))\n",
    "_,_,fig = plt.hist(avg_c_time_not_call, bins = 100)"
   ]
  },
  {
   "cell_type": "code",
   "execution_count": 1061,
   "id": "e1fea8a6",
   "metadata": {},
   "outputs": [
    {
     "name": "stdout",
     "output_type": "stream",
     "text": [
      "datetime64[ns]\n"
     ]
    },
    {
     "data": {
      "text/plain": [
       "Ttest_indResult(statistic=-5.205146668586934, pvalue=1.945210429936376e-07)"
      ]
     },
     "execution_count": 1061,
     "metadata": {},
     "output_type": "execute_result"
    },
    {
     "data": {
      "image/png": "[encoded data removed]",
      "text/plain": [
       "<Figure size 576x360 with 1 Axes>"
      ]
     },
     "metadata": {
      "needs_background": "light"
     },
     "output_type": "display_data"
    },
    {
     "data": {
      "image/png": "[encoded data removed]",
      "text/plain": [
       "<Figure size 300x300 with 2 Axes>"
      ]
     },
     "metadata": {
      "needs_background": "light"
     },
     "output_type": "display_data"
    }
   ],
   "source": [
    "plt.figure(figsize = (8,5))\n",
    "_,_,fig = plt.hist(avg_c_time_not_call, bins = 100, density = 0, alpha = 1)\n",
    "_,_,fig = plt.hist(avg_c_time_is_call, bins = 100,  density = 0, alpha = 0.5)\n",
    "print(avg_c_time_not_call.dtype)\n",
    "f, axes = plt.subplots(1, 2,sharey=True, dpi = 100, figsize = (3,3))\n",
    "sns.boxplot(data = avg_c_time_not_call.values, ax=axes[0])\n",
    "sns.boxplot(data = avg_c_time_is_call.values, ax=axes[1])\n",
    "stats.ttest_ind(avg_c_time_not_call.dt.day + avg_c_time_not_call.dt.month * 30 ,\n",
    "                avg_c_time_is_call.dt.day + avg_c_time_is_call.dt.month * 30, \n",
    "                equal_var=False )"
   ]
  },
  {
   "cell_type": "code",
   "execution_count": 966,
   "id": "0e02b3b0",
   "metadata": {},
   "outputs": [],
   "source": [
    "avg_time = webstat.groupby('sessionkey_id')['date_time'].max()\n",
    "avg_time_is_call = avg_time.loc[session_keys_is_call]\n",
    "avg_time_not_call = avg_time.loc[session_keys_not_call]"
   ]
  },
  {
   "cell_type": "code",
   "execution_count": 991,
   "id": "c04307cc",
   "metadata": {},
   "outputs": [
    {
     "data": {
      "image/png": "[encoded data removed]",
      "text/plain": [
       "<Figure size 432x288 with 1 Axes>"
      ]
     },
     "metadata": {
      "needs_background": "light"
     },
     "output_type": "display_data"
    }
   ],
   "source": [
    "avg_diff_is_call =( #(avg_c_time_is_call - avg_time_is_call).astype('timedelta64[D]').astype('float') +\n",
    "                  #(avg_c_time_is_call - avg_time_is_call).astype('timedelta64[h]').astype('float') / 24\n",
    "                   (avg_c_time_is_call - avg_time_is_call).astype('timedelta64[s]').astype('float') / (24 * 60 * 60) \n",
    "                 #-(avg_c_time_is_call - avg_time_is_call).astype('timedelta64[s]').astype('float') / (24 * 60 * 60) //1\n",
    "                  )\n",
    "avg_diff_is_call = avg_diff_is_call[(avg_diff_is_call > 0) & (avg_diff_is_call < 10)]\n",
    "_,_,fig = plt.hist(avg_diff_is_call, bins = 50)"
   ]
  },
  {
   "cell_type": "code",
   "execution_count": null,
   "id": "bade1ca8",
   "metadata": {},
   "outputs": [],
   "source": []
  },
  {
   "cell_type": "code",
   "execution_count": 994,
   "id": "6e7fc7c0",
   "metadata": {},
   "outputs": [
    {
     "data": {
      "image/png": "[encoded data removed]",
      "text/plain": [
       "<Figure size 432x288 with 1 Axes>"
      ]
     },
     "metadata": {
      "needs_background": "light"
     },
     "output_type": "display_data"
    }
   ],
   "source": [
    "avg_diff_not_call = (#(avg_c_time_not_call - avg_time_not_call).astype('timedelta64[D]').astype('float') +\n",
    "                     #(avg_c_time_not_call - avg_time_not_call).astype('timedelta64[h]').astype('float')/24 \n",
    "                     (avg_c_time_not_call - avg_time_not_call).astype('timedelta64[s]').astype('float')/(24*60*60)\n",
    "                    #-(avg_c_time_not_call - avg_time_not_call).astype('timedelta64[s]').astype('float')/(24*60*60) // 1\n",
    "                    )\n",
    "avg_diff_not_call = avg_diff_not_call[(avg_diff_not_call > 0 ) & (avg_diff_not_call < 10)]\n",
    "_,_,fig = plt.hist(avg_diff_not_call, bins = 50)"
   ]
  },
  {
   "cell_type": "code",
   "execution_count": 995,
   "id": "c621b787",
   "metadata": {},
   "outputs": [
    {
     "data": {
      "text/plain": [
       "Ttest_indResult(statistic=4.523989267798557, pvalue=6.081546296351148e-06)"
      ]
     },
     "execution_count": 995,
     "metadata": {},
     "output_type": "execute_result"
    },
    {
     "data": {
      "image/png": "[encoded data removed]",
      "text/plain": [
       "<Figure size 432x288 with 1 Axes>"
      ]
     },
     "metadata": {
      "needs_background": "light"
     },
     "output_type": "display_data"
    },
    {
     "data": {
      "image/png": "[encoded data removed]",
      "text/plain": [
       "<Figure size 300x300 with 2 Axes>"
      ]
     },
     "metadata": {
      "needs_background": "light"
     },
     "output_type": "display_data"
    }
   ],
   "source": [
    "_,_,fig = plt.hist(avg_diff_not_call, bins = 50, density = 0, alpha = 0.7)\n",
    "_,_,fig = plt.hist(avg_diff_is_call, bins = 50,  density = 0, alpha = 0.7)\n",
    "\n",
    "f, axes = plt.subplots(1, 2,sharey=True, dpi = 100, figsize = (3,3))\n",
    "sns.boxplot(data = avg_diff_not_call.values, ax=axes[0])\n",
    "sns.boxplot(data = avg_diff_is_call.values, ax=axes[1])\n",
    "stats.ttest_ind(avg_diff_not_call.values,\n",
    "                avg_diff_is_call.values, equal_var=False )"
   ]
  },
  {
   "cell_type": "code",
   "execution_count": 958,
   "id": "ddcc39a8",
   "metadata": {},
   "outputs": [],
   "source": [
    "avg_bool = train.groupby('sessionkey_id')['is_callcenter'].mean().astype(bool)\n",
    "avg_mod = train.groupby('sessionkey_id')['is_moderated'].max().astype(bool)"
   ]
  },
  {
   "cell_type": "code",
   "execution_count": 965,
   "id": "3d2a87db",
   "metadata": {},
   "outputs": [
    {
     "data": {
      "text/plain": [
       "(30289, 56411)"
      ]
     },
     "execution_count": 965,
     "metadata": {},
     "output_type": "execute_result"
    }
   ],
   "source": [
    "len(avg_bool[avg_bool == avg_mod]),len(avg_bool[avg_bool != avg_mod])"
   ]
  },
  {
   "cell_type": "code",
   "execution_count": 1046,
   "id": "10ec0260",
   "metadata": {},
   "outputs": [],
   "source": [
    "avg_bool = train.groupby('sessionkey_id')['is_callcenter'].mean().astype(bool)\n",
    "avg_pics = train.groupby('sessionkey_id')['goods_qty'].mean()"
   ]
  },
  {
   "cell_type": "code",
   "execution_count": 1047,
   "id": "af20dec1",
   "metadata": {},
   "outputs": [
    {
     "data": {
      "image/png": "[encoded data removed]",
      "text/plain": [
       "<Figure size 432x288 with 1 Axes>"
      ]
     },
     "metadata": {
      "needs_background": "light"
     },
     "output_type": "display_data"
    }
   ],
   "source": [
    "avg_pics_is_call = avg_pics.loc[avg_bool]\n",
    "\n",
    "_,_,fig = plt.hist(avg_pics_is_call, bins = 50)"
   ]
  },
  {
   "cell_type": "code",
   "execution_count": 1048,
   "id": "f695c396",
   "metadata": {},
   "outputs": [
    {
     "data": {
      "image/png": "[encoded data removed]",
      "text/plain": [
       "<Figure size 432x288 with 1 Axes>"
      ]
     },
     "metadata": {
      "needs_background": "light"
     },
     "output_type": "display_data"
    }
   ],
   "source": [
    "avg_pics_not_call = avg_pics.loc[~avg_bool]\n",
    "\n",
    "_,_,fig = plt.hist(avg_pics_not_call, bins = 50)"
   ]
  },
  {
   "cell_type": "code",
   "execution_count": 1049,
   "id": "d9c26c9f",
   "metadata": {},
   "outputs": [
    {
     "data": {
      "image/png": "[encoded data removed]",
      "text/plain": [
       "<Figure size 432x288 with 1 Axes>"
      ]
     },
     "metadata": {
      "needs_background": "light"
     },
     "output_type": "display_data"
    }
   ],
   "source": [
    "_,_,fig = plt.hist(avg_pics_not_call, alpha =1, bins = 100,density = True)\n",
    "_,_,fig = plt.hist(avg_pics_is_call, alpha = 0.5, bins = 100, density = True)"
   ]
  },
  {
   "cell_type": "code",
   "execution_count": null,
   "id": "e0613457",
   "metadata": {},
   "outputs": [],
   "source": []
  },
  {
   "cell_type": "code",
   "execution_count": 863,
   "id": "6521cb8e",
   "metadata": {},
   "outputs": [
    {
     "data": {
      "image/png": "[encoded data removed]",
      "text/plain": [
       "<Figure size 432x288 with 1 Axes>"
      ]
     },
     "metadata": {
      "needs_background": "light"
     },
     "output_type": "display_data"
    }
   ],
   "source": [
    "_,_,fig = plt.hist(key_pages.loc[session_keys_is_call], alpha =1, density = True)\n",
    "_,_,fig = plt.hist(key_pages.loc[session_keys_not_call], alpha = 0.5, density = True)"
   ]
  },
  {
   "cell_type": "code",
   "execution_count": null,
   "id": "a99eb15c",
   "metadata": {},
   "outputs": [],
   "source": []
  },
  {
   "cell_type": "code",
   "execution_count": null,
   "id": "567a974f",
   "metadata": {},
   "outputs": [],
   "source": []
  },
  {
   "cell_type": "code",
   "execution_count": null,
   "id": "5eeb0268",
   "metadata": {},
   "outputs": [],
   "source": []
  }
 ],
 "metadata": {
  "kernelspec": {
   "display_name": "Python 3",
   "language": "python",
   "name": "python3"
  },
  "language_info": {
   "codemirror_mode": {
    "name": "ipython",
    "version": 3
   },
   "file_extension": ".py",
   "mimetype": "text/x-python",
   "name": "python",
   "nbconvert_exporter": "python",
   "pygments_lexer": "ipython3",
   "version": "3.10.4"
  }
 },
 "nbformat": 4,
 "nbformat_minor": 5
}
